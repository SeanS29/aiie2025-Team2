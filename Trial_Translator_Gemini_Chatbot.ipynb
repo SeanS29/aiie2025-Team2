{
  "nbformat": 4,
  "nbformat_minor": 0,
  "metadata": {
    "colab": {
      "provenance": []
    },
    "kernelspec": {
      "name": "python3",
      "display_name": "Python 3"
    },
    "language_info": {
      "name": "python"
    }
  },
  "cells": [
    {
      "cell_type": "markdown",
      "source": [
        "# App\n"
      ],
      "metadata": {
        "id": "QQrAiiVvpEdZ"
      }
    },
    {
      "cell_type": "markdown",
      "source": [
        "## This is for the streamlit interface: trail 1"
      ],
      "metadata": {
        "id": "GMz9LpsLRxQo"
      }
    },
    {
      "cell_type": "code",
      "source": [
        "#imports\n",
        "from google import genai\n",
        "from google.genai import types\n",
        "import wave\n",
        "from google.colab import userdata\n",
        "\n",
        "client = genai.Client(api_key=userdata.get('GOOGLE_API_KEY'))"
      ],
      "metadata": {
        "id": "LjfxnTCJpJ0v"
      },
      "execution_count": 7,
      "outputs": []
    },
    {
      "cell_type": "code",
      "metadata": {
        "colab": {
          "base_uri": "https://localhost:8080/"
        },
        "id": "4c58dfe6",
        "outputId": "93aaef7c-b3fa-47ef-9905-c2cf7a4b3cb0"
      },
      "source": [
        "%pip install streamlit google-generativeai==0.6.0"
      ],
      "execution_count": 8,
      "outputs": [
        {
          "output_type": "stream",
          "name": "stdout",
          "text": [
            "Requirement already satisfied: streamlit in /usr/local/lib/python3.11/dist-packages (1.45.1)\n",
            "Requirement already satisfied: google-generativeai==0.6.0 in /usr/local/lib/python3.11/dist-packages (0.6.0)\n",
            "Requirement already satisfied: google-ai-generativelanguage==0.6.4 in /usr/local/lib/python3.11/dist-packages (from google-generativeai==0.6.0) (0.6.4)\n",
            "Requirement already satisfied: google-api-core in /usr/local/lib/python3.11/dist-packages (from google-generativeai==0.6.0) (2.25.0)\n",
            "Requirement already satisfied: google-api-python-client in /usr/local/lib/python3.11/dist-packages (from google-generativeai==0.6.0) (2.171.0)\n",
            "Requirement already satisfied: google-auth>=2.15.0 in /usr/local/lib/python3.11/dist-packages (from google-generativeai==0.6.0) (2.38.0)\n",
            "Requirement already satisfied: protobuf in /usr/local/lib/python3.11/dist-packages (from google-generativeai==0.6.0) (4.25.8)\n",
            "Requirement already satisfied: pydantic in /usr/local/lib/python3.11/dist-packages (from google-generativeai==0.6.0) (2.11.5)\n",
            "Requirement already satisfied: tqdm in /usr/local/lib/python3.11/dist-packages (from google-generativeai==0.6.0) (4.67.1)\n",
            "Requirement already satisfied: typing-extensions in /usr/local/lib/python3.11/dist-packages (from google-generativeai==0.6.0) (4.14.0)\n",
            "Requirement already satisfied: proto-plus<2.0.0dev,>=1.22.3 in /usr/local/lib/python3.11/dist-packages (from google-ai-generativelanguage==0.6.4->google-generativeai==0.6.0) (1.26.1)\n",
            "Requirement already satisfied: altair<6,>=4.0 in /usr/local/lib/python3.11/dist-packages (from streamlit) (5.5.0)\n",
            "Requirement already satisfied: blinker<2,>=1.5.0 in /usr/local/lib/python3.11/dist-packages (from streamlit) (1.9.0)\n",
            "Requirement already satisfied: cachetools<6,>=4.0 in /usr/local/lib/python3.11/dist-packages (from streamlit) (5.5.2)\n",
            "Requirement already satisfied: click<9,>=7.0 in /usr/local/lib/python3.11/dist-packages (from streamlit) (8.2.1)\n",
            "Requirement already satisfied: numpy<3,>=1.23 in /usr/local/lib/python3.11/dist-packages (from streamlit) (2.0.2)\n",
            "Requirement already satisfied: packaging<25,>=20 in /usr/local/lib/python3.11/dist-packages (from streamlit) (24.2)\n",
            "Requirement already satisfied: pandas<3,>=1.4.0 in /usr/local/lib/python3.11/dist-packages (from streamlit) (2.2.2)\n",
            "Requirement already satisfied: pillow<12,>=7.1.0 in /usr/local/lib/python3.11/dist-packages (from streamlit) (11.2.1)\n",
            "Requirement already satisfied: pyarrow>=7.0 in /usr/local/lib/python3.11/dist-packages (from streamlit) (18.1.0)\n",
            "Requirement already satisfied: requests<3,>=2.27 in /usr/local/lib/python3.11/dist-packages (from streamlit) (2.32.3)\n",
            "Requirement already satisfied: tenacity<10,>=8.1.0 in /usr/local/lib/python3.11/dist-packages (from streamlit) (9.1.2)\n",
            "Requirement already satisfied: toml<2,>=0.10.1 in /usr/local/lib/python3.11/dist-packages (from streamlit) (0.10.2)\n",
            "Requirement already satisfied: watchdog<7,>=2.1.5 in /usr/local/lib/python3.11/dist-packages (from streamlit) (6.0.0)\n",
            "Requirement already satisfied: gitpython!=3.1.19,<4,>=3.0.7 in /usr/local/lib/python3.11/dist-packages (from streamlit) (3.1.44)\n",
            "Requirement already satisfied: pydeck<1,>=0.8.0b4 in /usr/local/lib/python3.11/dist-packages (from streamlit) (0.9.1)\n",
            "Requirement already satisfied: tornado<7,>=6.0.3 in /usr/local/lib/python3.11/dist-packages (from streamlit) (6.4.2)\n",
            "Requirement already satisfied: jinja2 in /usr/local/lib/python3.11/dist-packages (from altair<6,>=4.0->streamlit) (3.1.6)\n",
            "Requirement already satisfied: jsonschema>=3.0 in /usr/local/lib/python3.11/dist-packages (from altair<6,>=4.0->streamlit) (4.24.0)\n",
            "Requirement already satisfied: narwhals>=1.14.2 in /usr/local/lib/python3.11/dist-packages (from altair<6,>=4.0->streamlit) (1.41.0)\n",
            "Requirement already satisfied: gitdb<5,>=4.0.1 in /usr/local/lib/python3.11/dist-packages (from gitpython!=3.1.19,<4,>=3.0.7->streamlit) (4.0.12)\n",
            "Requirement already satisfied: googleapis-common-protos<2.0.0,>=1.56.2 in /usr/local/lib/python3.11/dist-packages (from google-api-core->google-generativeai==0.6.0) (1.70.0)\n",
            "Requirement already satisfied: pyasn1-modules>=0.2.1 in /usr/local/lib/python3.11/dist-packages (from google-auth>=2.15.0->google-generativeai==0.6.0) (0.4.2)\n",
            "Requirement already satisfied: rsa<5,>=3.1.4 in /usr/local/lib/python3.11/dist-packages (from google-auth>=2.15.0->google-generativeai==0.6.0) (4.9.1)\n",
            "Requirement already satisfied: python-dateutil>=2.8.2 in /usr/local/lib/python3.11/dist-packages (from pandas<3,>=1.4.0->streamlit) (2.9.0.post0)\n",
            "Requirement already satisfied: pytz>=2020.1 in /usr/local/lib/python3.11/dist-packages (from pandas<3,>=1.4.0->streamlit) (2025.2)\n",
            "Requirement already satisfied: tzdata>=2022.7 in /usr/local/lib/python3.11/dist-packages (from pandas<3,>=1.4.0->streamlit) (2025.2)\n",
            "Requirement already satisfied: charset-normalizer<4,>=2 in /usr/local/lib/python3.11/dist-packages (from requests<3,>=2.27->streamlit) (3.4.2)\n",
            "Requirement already satisfied: idna<4,>=2.5 in /usr/local/lib/python3.11/dist-packages (from requests<3,>=2.27->streamlit) (3.10)\n",
            "Requirement already satisfied: urllib3<3,>=1.21.1 in /usr/local/lib/python3.11/dist-packages (from requests<3,>=2.27->streamlit) (2.4.0)\n",
            "Requirement already satisfied: certifi>=2017.4.17 in /usr/local/lib/python3.11/dist-packages (from requests<3,>=2.27->streamlit) (2025.4.26)\n",
            "Requirement already satisfied: httplib2<1.0.0,>=0.19.0 in /usr/local/lib/python3.11/dist-packages (from google-api-python-client->google-generativeai==0.6.0) (0.22.0)\n",
            "Requirement already satisfied: google-auth-httplib2<1.0.0,>=0.2.0 in /usr/local/lib/python3.11/dist-packages (from google-api-python-client->google-generativeai==0.6.0) (0.2.0)\n",
            "Requirement already satisfied: uritemplate<5,>=3.0.1 in /usr/local/lib/python3.11/dist-packages (from google-api-python-client->google-generativeai==0.6.0) (4.2.0)\n",
            "Requirement already satisfied: annotated-types>=0.6.0 in /usr/local/lib/python3.11/dist-packages (from pydantic->google-generativeai==0.6.0) (0.7.0)\n",
            "Requirement already satisfied: pydantic-core==2.33.2 in /usr/local/lib/python3.11/dist-packages (from pydantic->google-generativeai==0.6.0) (2.33.2)\n",
            "Requirement already satisfied: typing-inspection>=0.4.0 in /usr/local/lib/python3.11/dist-packages (from pydantic->google-generativeai==0.6.0) (0.4.1)\n",
            "Requirement already satisfied: smmap<6,>=3.0.1 in /usr/local/lib/python3.11/dist-packages (from gitdb<5,>=4.0.1->gitpython!=3.1.19,<4,>=3.0.7->streamlit) (5.0.2)\n",
            "Requirement already satisfied: grpcio<2.0.0,>=1.33.2 in /usr/local/lib/python3.11/dist-packages (from google-api-core[grpc]!=2.0.*,!=2.1.*,!=2.10.*,!=2.2.*,!=2.3.*,!=2.4.*,!=2.5.*,!=2.6.*,!=2.7.*,!=2.8.*,!=2.9.*,<3.0.0dev,>=1.34.1->google-ai-generativelanguage==0.6.4->google-generativeai==0.6.0) (1.72.1)\n",
            "Requirement already satisfied: grpcio-status<2.0.0,>=1.33.2 in /usr/local/lib/python3.11/dist-packages (from google-api-core[grpc]!=2.0.*,!=2.1.*,!=2.10.*,!=2.2.*,!=2.3.*,!=2.4.*,!=2.5.*,!=2.6.*,!=2.7.*,!=2.8.*,!=2.9.*,<3.0.0dev,>=1.34.1->google-ai-generativelanguage==0.6.4->google-generativeai==0.6.0) (1.62.3)\n",
            "Requirement already satisfied: pyparsing!=3.0.0,!=3.0.1,!=3.0.2,!=3.0.3,<4,>=2.4.2 in /usr/local/lib/python3.11/dist-packages (from httplib2<1.0.0,>=0.19.0->google-api-python-client->google-generativeai==0.6.0) (3.2.3)\n",
            "Requirement already satisfied: MarkupSafe>=2.0 in /usr/local/lib/python3.11/dist-packages (from jinja2->altair<6,>=4.0->streamlit) (3.0.2)\n",
            "Requirement already satisfied: attrs>=22.2.0 in /usr/local/lib/python3.11/dist-packages (from jsonschema>=3.0->altair<6,>=4.0->streamlit) (25.3.0)\n",
            "Requirement already satisfied: jsonschema-specifications>=2023.03.6 in /usr/local/lib/python3.11/dist-packages (from jsonschema>=3.0->altair<6,>=4.0->streamlit) (2025.4.1)\n",
            "Requirement already satisfied: referencing>=0.28.4 in /usr/local/lib/python3.11/dist-packages (from jsonschema>=3.0->altair<6,>=4.0->streamlit) (0.36.2)\n",
            "Requirement already satisfied: rpds-py>=0.7.1 in /usr/local/lib/python3.11/dist-packages (from jsonschema>=3.0->altair<6,>=4.0->streamlit) (0.25.1)\n",
            "Requirement already satisfied: pyasn1<0.7.0,>=0.6.1 in /usr/local/lib/python3.11/dist-packages (from pyasn1-modules>=0.2.1->google-auth>=2.15.0->google-generativeai==0.6.0) (0.6.1)\n",
            "Requirement already satisfied: six>=1.5 in /usr/local/lib/python3.11/dist-packages (from python-dateutil>=2.8.2->pandas<3,>=1.4.0->streamlit) (1.17.0)\n"
          ]
        }
      ]
    },
    {
      "cell_type": "code",
      "metadata": {
        "colab": {
          "base_uri": "https://localhost:8080/"
        },
        "id": "70b1edf4",
        "outputId": "bc14e355-25f1-47bd-b60a-27632b8f7109"
      },
      "source": [
        "# app.py\n",
        "import streamlit as st\n",
        "from google import genai\n",
        "from google.genai import types\n",
        "import wave\n",
        "import os # Import os to handle temporary file removal\n",
        "import base64 # Import base64 for download button\n",
        "\n",
        "# Function to save wave file\n",
        "def wave_file(filename, pcm, channels=1, rate=24000, sample_width=2):\n",
        "   with wave.open(filename, \"wb\") as wf:\n",
        "      wf.setnchannels(channels)\n",
        "      wf.setsampwidth(sample_width)\n",
        "      wf.setframerate(rate)\n",
        "      wf.writeframes(pcm)\n",
        "\n",
        "# Function to get modulated response\n",
        "def mod_response(transcript):\n",
        "  # Ensure client is initialized\n",
        "  try:\n",
        "      client = genai.Client(api_key=st.secrets[\"GOOGLE_API_KEY\"])\n",
        "  except KeyError:\n",
        "      st.error(\"API key not found. Please set the GOOGLE_API_KEY in your Streamlit secrets.\")\n",
        "      return None\n",
        "  except Exception as e:\n",
        "      st.error(f\"Failed to initialize Google Generative AI client: {e}\")\n",
        "      return None\n",
        "\n",
        "  try:\n",
        "      response = client.models.generate_content(\n",
        "        model=\"gemini-2.5-flash-preview-tts\",\n",
        "        contents=transcript, # Text to be spoken\n",
        "        config=types.GenerateContentConfig(\n",
        "            response_modalities=[\"AUDIO\"],\n",
        "            speech_config=types.SpeechConfig(\n",
        "              voice_config=types.VoiceConfig(\n",
        "                  prebuilt_voice_config=types.PrebuiltVoiceConfig(\n",
        "                    voice_name='Gacrux',\n",
        "                  )\n",
        "              )\n",
        "            ),\n",
        "        )\n",
        "      )\n",
        "\n",
        "      # Add error handling for NoneType response or missing parts\n",
        "      if response and response.candidates and response.candidates[0].content and response.candidates[0].content.parts:\n",
        "          data = response.candidates[0].content.parts[0].inline_data.data\n",
        "          file_name='out.wav' # file name\n",
        "          wave_file(file_name, data) # Saves the file to current directory\n",
        "          return file_name\n",
        "      else:\n",
        "          st.error(\"Failed to generate audio response. Please try again.\")\n",
        "          return None\n",
        "  except Exception as e:\n",
        "        st.error(f\"An error occurred during audio generation: {e}\")\n",
        "        return None\n",
        "\n",
        "\n",
        "# Speech-to-speech translation\n",
        "def speech_to_speech(user_input_file, translation):\n",
        "  # Ensure client is initialized\n",
        "  try:\n",
        "      client = genai.Client(api_key=st.secrets[\"GOOGLE_API_KEY\"])\n",
        "  except KeyError:\n",
        "      st.error(\"API key not found. Please set the GOOGLE_API_KEY in your Streamlit secrets.\")\n",
        "      return\n",
        "  except Exception as e:\n",
        "      st.error(f\"Failed to initialize Google Generative AI client: {e}\")\n",
        "      return\n",
        "\n",
        "  temp_audio_path = \"temp_audio.wav\"\n",
        "  try:\n",
        "      # Save the uploaded file to a temporary location\n",
        "      with open(temp_audio_path, \"wb\") as f:\n",
        "          f.write(user_input_file.getvalue())\n",
        "\n",
        "      # Upload the local file\n",
        "      myfile = client.files.upload(file=temp_audio_path)\n",
        "\n",
        "      transcript = client.models.generate_content(\n",
        "       model=\"gemini-2.0-flash\",\n",
        "       contents=myfile).text\n",
        "\n",
        "      transcript_translation = client.models.generate_content(\n",
        "      model=\"gemini-2.0-flash\",\n",
        "      contents=\"In one line, translate \" + transcript + \"in \" + translation).text\n",
        "\n",
        "      audio_file = mod_response(transcript_translation)\n",
        "      if audio_file:\n",
        "          audio_bytes = open(audio_file, 'rb').read()\n",
        "          st.audio(audio_bytes, format='audio/wav')\n",
        "          st.download_button(label=\"Download Audio\",\n",
        "                             data=audio_bytes,\n",
        "                             file_name=\"translated_speech.wav\",\n",
        "                             mime=\"audio/wav\")\n",
        "\n",
        "\n",
        "  except Exception as e:\n",
        "      st.error(f\"An error occurred during speech-to-speech translation: {e}\")\n",
        "  finally:\n",
        "      # Clean up the temporary file\n",
        "      if os.path.exists(temp_audio_path):\n",
        "          os.remove(temp_audio_path)\n",
        "\n",
        "\n",
        "# Speech-to-text translation\n",
        "def speech_to_text(user_input_file, translation):\n",
        "  # Ensure client is initialized\n",
        "  try:\n",
        "      client = genai.Client(api_key=st.secrets[\"GOOGLE_API_KEY\"])\n",
        "  except KeyError:\n",
        "      st.error(\"API key not found. Please set the GOOGLE_API_KEY in your Streamlit secrets.\")\n",
        "      return\n",
        "  except Exception as e:\n",
        "      st.error(f\"Failed to initialize Google Generative AI client: {e}\")\n",
        "      return\n",
        "\n",
        "  temp_audio_path = \"temp_audio.wav\"\n",
        "  try:\n",
        "      # Save the uploaded file to a temporary location\n",
        "      with open(temp_audio_path, \"wb\") as f:\n",
        "          f.write(user_input_file.getvalue())\n",
        "\n",
        "      # Upload the local file\n",
        "      myfile = client.files.upload(file=temp_audio_path)\n",
        "\n",
        "      transcript = client.models.generate_content(\n",
        "       model=\"gemini-2.0-flash\",\n",
        "       contents=myfile).text\n",
        "\n",
        "      transcript_translation = client.models.generate_content(\n",
        "      model=\"gemini-2.0-flash\",\n",
        "      contents=\"In one line, translate \" + transcript + \"in \" + translation).text\n",
        "\n",
        "      st.write(transcript_translation)\n",
        "  except Exception as e:\n",
        "      st.error(f\"An error occurred during speech-to-text translation: {e}\")\n",
        "  finally:\n",
        "      # Clean up the temporary file\n",
        "      if os.path.exists(temp_audio_path):\n",
        "          os.remove(temp_audio_path)\n",
        "\n",
        "# Text-to-speech\n",
        "def text_to_speech(user_input):\n",
        "  # Ensure client is initialized\n",
        "  try:\n",
        "      client = genai.Client(api_key=st.secrets[\"GOOGLE_API_KEY\"])\n",
        "  except KeyError:\n",
        "      st.error(\"API key not found. Please set the GOOGLE_API_KEY in your Streamlit secrets.\")\n",
        "      return\n",
        "  except Exception as e:\n",
        "      st.error(f\"Failed to initialize Google Generative AI client: {e}\")\n",
        "      return\n",
        "\n",
        "  try:\n",
        "      transcript = client.models.generate_content(\n",
        "       model=\"gemini-2.0-flash\",\n",
        "       contents=\"In one line say: \" + user_input).text\n",
        "\n",
        "      audio_file = mod_response(transcript)\n",
        "      if audio_file:\n",
        "          audio_bytes = open(audio_file, 'rb').read()\n",
        "          st.audio(audio_bytes, format='audio/wav')\n",
        "          st.download_button(label=\"Download Audio\",\n",
        "                             data=audio_bytes,\n",
        "                             file_name=\"generated_speech.wav\",\n",
        "                             mime=\"audio/wav\")\n",
        "  except Exception as e:\n",
        "      st.error(f\"An error occurred during text-to-speech: {e}\")\n",
        "\n",
        "# Text-to-text\n",
        "def text_to_text(user_input, translation):\n",
        "  # Ensure client is initialized\n",
        "  try:\n",
        "      client = genai.Client(api_key=st.secrets[\"GOOGLE_API_KEY\"])\n",
        "  except KeyError:\n",
        "      st.error(\"API key not found. Please set the GOOGLE_API_KEY in your Streamlit secrets.\")\n",
        "      return\n",
        "  except Exception as e:\n",
        "      st.error(f\"Failed to initialize Google Generative AI client: {e}\")\n",
        "      return\n",
        "\n",
        "  try:\n",
        "      transcript = client.models.generate_content(\n",
        "       model=\"gemini-2.0-flash\",\n",
        "       contents=f\"In one line translate: {user_input} into {translation}\").text\n",
        "      st.write(transcript)\n",
        "  except Exception as e:\n",
        "      st.error(f\"An error occurred during text-to-text: {e}\")\n",
        "\n",
        "# Streamlit App Interface\n",
        "st.title(\"Translation and Text-to-Speech App\")\n",
        "\n",
        "feature_selection = st.selectbox(\n",
        "    \"Select a feature:\",\n",
        "    (\"Speech-to-Speech\", \"Speech-to-Text\", \"Text-to-Speech\", \"Text-to-Text\")\n",
        ")\n",
        "\n",
        "user_input_text = None\n",
        "user_input_file = None\n",
        "translation_language = None\n",
        "button_label = \"Process\" # Default button label\n",
        "\n",
        "if feature_selection == \"Speech-to-Speech\" or feature_selection == \"Speech-to-Text\":\n",
        "    user_input_file = st.file_uploader(\"Upload an audio file (.wav)\", type=[\"wav\"])\n",
        "    translation_language = st.text_input(\"Enter target translation language:\")\n",
        "    button_label = \"Translate and Generate Speech\" if feature_selection == \"Speech-to-Speech\" else \"Translate to Text\"\n",
        "\n",
        "elif feature_selection == \"Text-to-Speech\":\n",
        "    user_input_text = st.text_area(\"Enter text to convert to speech:\")\n",
        "    button_label = \"Generate Speech\"\n",
        "\n",
        "elif feature_selection == \"Text-to-Text\":\n",
        "    user_input_text = st.text_area(\"Enter text to translate:\")\n",
        "    translation_language = st.text_input(\"Enter target translation language:\")\n",
        "    button_label = \"Translate Text\"\n",
        "\n",
        "if st.button(button_label):\n",
        "    if feature_selection == \"Speech-to-Speech\":\n",
        "        if user_input_file and translation_language:\n",
        "             speech_to_speech(user_input_file, translation_language)\n",
        "        else:\n",
        "            st.warning(\"Please upload an audio file and enter a translation language.\")\n",
        "    elif feature_selection == \"Speech-to-Text\":\n",
        "        if user_input_file and translation_language:\n",
        "            speech_to_text(user_input_file, translation_language)\n",
        "        else:\n",
        "            st.warning(\"Please upload an audio file and enter a translation language.\")\n",
        "    elif feature_selection == \"Text-to-Speech\":\n",
        "        if user_input_text:\n",
        "            text_to_speech(user_input_text)\n",
        "        else:\n",
        "            st.warning(\"Please enter text to convert to speech.\")\n",
        "    elif feature_selection == \"Text-to-Text\":\n",
        "        if user_input_text and translation_language:\n",
        "            text_to_text(user_input_text, translation_language)\n",
        "        else:\n",
        "            st.warning(\"Please enter text to translate and a translation language.\")"
      ],
      "execution_count": 9,
      "outputs": [
        {
          "output_type": "stream",
          "name": "stderr",
          "text": [
            "2025-06-12 20:19:46.467 Thread 'MainThread': missing ScriptRunContext! This warning can be ignored when running in bare mode.\n",
            "2025-06-12 20:19:46.471 Thread 'MainThread': missing ScriptRunContext! This warning can be ignored when running in bare mode.\n",
            "2025-06-12 20:19:46.473 Thread 'MainThread': missing ScriptRunContext! This warning can be ignored when running in bare mode.\n",
            "2025-06-12 20:19:46.474 Thread 'MainThread': missing ScriptRunContext! This warning can be ignored when running in bare mode.\n",
            "2025-06-12 20:19:46.475 Thread 'MainThread': missing ScriptRunContext! This warning can be ignored when running in bare mode.\n",
            "2025-06-12 20:19:46.476 Thread 'MainThread': missing ScriptRunContext! This warning can be ignored when running in bare mode.\n",
            "2025-06-12 20:19:46.477 Thread 'MainThread': missing ScriptRunContext! This warning can be ignored when running in bare mode.\n",
            "2025-06-12 20:19:46.478 Thread 'MainThread': missing ScriptRunContext! This warning can be ignored when running in bare mode.\n",
            "2025-06-12 20:19:46.480 Thread 'MainThread': missing ScriptRunContext! This warning can be ignored when running in bare mode.\n",
            "2025-06-12 20:19:46.481 Thread 'MainThread': missing ScriptRunContext! This warning can be ignored when running in bare mode.\n",
            "2025-06-12 20:19:46.482 Thread 'MainThread': missing ScriptRunContext! This warning can be ignored when running in bare mode.\n",
            "2025-06-12 20:19:46.483 Thread 'MainThread': missing ScriptRunContext! This warning can be ignored when running in bare mode.\n",
            "2025-06-12 20:19:46.484 Thread 'MainThread': missing ScriptRunContext! This warning can be ignored when running in bare mode.\n",
            "2025-06-12 20:19:46.485 Thread 'MainThread': missing ScriptRunContext! This warning can be ignored when running in bare mode.\n",
            "2025-06-12 20:19:46.486 Thread 'MainThread': missing ScriptRunContext! This warning can be ignored when running in bare mode.\n",
            "2025-06-12 20:19:46.487 Thread 'MainThread': missing ScriptRunContext! This warning can be ignored when running in bare mode.\n",
            "2025-06-12 20:19:46.488 Thread 'MainThread': missing ScriptRunContext! This warning can be ignored when running in bare mode.\n",
            "2025-06-12 20:19:46.489 Thread 'MainThread': missing ScriptRunContext! This warning can be ignored when running in bare mode.\n",
            "2025-06-12 20:19:46.490 Thread 'MainThread': missing ScriptRunContext! This warning can be ignored when running in bare mode.\n",
            "2025-06-12 20:19:46.491 Thread 'MainThread': missing ScriptRunContext! This warning can be ignored when running in bare mode.\n",
            "2025-06-12 20:19:46.492 Thread 'MainThread': missing ScriptRunContext! This warning can be ignored when running in bare mode.\n",
            "2025-06-12 20:19:46.492 Thread 'MainThread': missing ScriptRunContext! This warning can be ignored when running in bare mode.\n",
            "2025-06-12 20:19:46.493 Thread 'MainThread': missing ScriptRunContext! This warning can be ignored when running in bare mode.\n",
            "2025-06-12 20:19:46.494 Thread 'MainThread': missing ScriptRunContext! This warning can be ignored when running in bare mode.\n"
          ]
        }
      ]
    },
    {
      "cell_type": "code",
      "source": [
        "!npm install localtunnel -q"
      ],
      "metadata": {
        "colab": {
          "base_uri": "https://localhost:8080/"
        },
        "id": "TSiIlOveYFPZ",
        "outputId": "b5a04ed1-f918-4e2f-cea9-697e37082a16"
      },
      "execution_count": 10,
      "outputs": [
        {
          "output_type": "stream",
          "name": "stdout",
          "text": [
            "\u001b[1G\u001b[0K⠙\u001b[1G\u001b[0K⠹\u001b[1G\u001b[0K⠸\u001b[1G\u001b[0K⠼\u001b[1G\u001b[0K⠴\u001b[1G\u001b[0K⠦\u001b[1G\u001b[0K\n",
            "up to date, audited 23 packages in 1s\n",
            "\u001b[1G\u001b[0K⠦\u001b[1G\u001b[0K\n",
            "\u001b[1G\u001b[0K⠦\u001b[1G\u001b[0K3 packages are looking for funding\n",
            "\u001b[1G\u001b[0K⠦\u001b[1G\u001b[0K  run `npm fund` for details\n",
            "\u001b[1G\u001b[0K⠦\u001b[1G\u001b[0K\n",
            "2 \u001b[31m\u001b[1mhigh\u001b[22m\u001b[39m severity vulnerabilities\n",
            "\n",
            "To address all issues (including breaking changes), run:\n",
            "  npm audit fix --force\n",
            "\n",
            "Run `npm audit` for details.\n",
            "\u001b[1G\u001b[0K⠦\u001b[1G\u001b[0K"
          ]
        }
      ]
    },
    {
      "cell_type": "code",
      "source": [
        "!streamlit run app.py &>/content/logs.txt & curl ipv4.icanhazip.com"
      ],
      "metadata": {
        "colab": {
          "base_uri": "https://localhost:8080/"
        },
        "id": "OiUc_oc-YIKK",
        "outputId": "175ac467-31ef-433a-9f56-574b0a83e367"
      },
      "execution_count": 11,
      "outputs": [
        {
          "output_type": "stream",
          "name": "stdout",
          "text": [
            "34.106.167.62\n"
          ]
        }
      ]
    },
    {
      "cell_type": "code",
      "source": [
        "!npx localtunnel --port 8501"
      ],
      "metadata": {
        "colab": {
          "base_uri": "https://localhost:8080/"
        },
        "id": "Kzlr_fiPYN45",
        "outputId": "80d3e12f-46a2-4f39-b5e5-8916d5af354c"
      },
      "execution_count": 12,
      "outputs": [
        {
          "output_type": "stream",
          "name": "stdout",
          "text": [
            "\u001b[1G\u001b[0K⠙\u001b[1G\u001b[0K⠹\u001b[1G\u001b[0Kyour url is: https://gold-cats-bathe.loca.lt\n",
            "^C\n"
          ]
        }
      ]
    }
  ]
}